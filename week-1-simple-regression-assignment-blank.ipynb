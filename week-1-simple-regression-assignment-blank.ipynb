{
 "cells": [
  {
   "cell_type": "markdown",
   "metadata": {},
   "source": [
    "# Regression Week 1: Simple Linear Regression"
   ]
  },
  {
   "cell_type": "markdown",
   "metadata": {},
   "source": [
    "In this notebook we will use data on house sales in King County to predict house prices using simple (one input) linear regression. You will:\n",
    "* Use graphlab SArray and SFrame functions to compute important summary statistics\n",
    "* Write a function to compute the Simple Linear Regression weights using the closed form solution\n",
    "* Write a function to make predictions of the output given the input feature\n",
    "* Turn the regression around to predict the input given the output\n",
    "* Compare two different models for predicting house prices\n",
    "\n",
    "In this notebook you will be provided with some already complete code as well as some code that you should complete yourself in order to answer quiz questions. The code we provide to complte is optional and is there to assist you with solving the problems but feel free to ignore the helper code and write your own."
   ]
  },
  {
   "cell_type": "markdown",
   "metadata": {},
   "source": [
    "# Fire up graphlab create"
   ]
  },
  {
   "cell_type": "code",
   "execution_count": 1,
   "metadata": {
    "collapsed": false
   },
   "outputs": [],
   "source": [
    "import graphlab"
   ]
  },
  {
   "cell_type": "markdown",
   "metadata": {},
   "source": [
    "# Load house sales data\n",
    "\n",
    "Dataset is from house sales in King County, the region where the city of Seattle, WA is located."
   ]
  },
  {
   "cell_type": "code",
   "execution_count": 38,
   "metadata": {
    "collapsed": true
   },
   "outputs": [],
   "source": [
    "from __future__ import division"
   ]
  },
  {
   "cell_type": "code",
   "execution_count": 2,
   "metadata": {
    "collapsed": false
   },
   "outputs": [
    {
     "name": "stderr",
     "output_type": "stream",
     "text": [
      "[INFO] graphlab.cython.cy_server: GraphLab Create v2.1 started. Logging: C:\\Users\\Melissa\\AppData\\Local\\Temp\\graphlab_server_1488231583.log.0\n"
     ]
    },
    {
     "name": "stdout",
     "output_type": "stream",
     "text": [
      "This non-commercial license of GraphLab Create for academic use is assigned to nickkoenig11@gmail.com and will expire on February 16, 2018.\n"
     ]
    }
   ],
   "source": [
    "sales = graphlab.SFrame('kc_house_data.gl/')"
   ]
  },
  {
   "cell_type": "markdown",
   "metadata": {},
   "source": [
    "# Split data into training and testing"
   ]
  },
  {
   "cell_type": "markdown",
   "metadata": {},
   "source": [
    "We use seed=0 so that everyone running this notebook gets the same results.  In practice, you may set a random seed (or let GraphLab Create pick a random seed for you).  "
   ]
  },
  {
   "cell_type": "code",
   "execution_count": 3,
   "metadata": {
    "collapsed": false
   },
   "outputs": [],
   "source": [
    "train_data,test_data = sales.random_split(.8,seed=0)"
   ]
  },
  {
   "cell_type": "code",
   "execution_count": 6,
   "metadata": {
    "collapsed": false
   },
   "outputs": [
    {
     "data": {
      "text/html": [
       "<div style=\"max-height:1000px;max-width:1500px;overflow:auto;\"><table frame=\"box\" rules=\"cols\">\n",
       "    <tr>\n",
       "        <th style=\"padding-left: 1em; padding-right: 1em; text-align: center\">id</th>\n",
       "        <th style=\"padding-left: 1em; padding-right: 1em; text-align: center\">date</th>\n",
       "        <th style=\"padding-left: 1em; padding-right: 1em; text-align: center\">price</th>\n",
       "        <th style=\"padding-left: 1em; padding-right: 1em; text-align: center\">bedrooms</th>\n",
       "        <th style=\"padding-left: 1em; padding-right: 1em; text-align: center\">bathrooms</th>\n",
       "        <th style=\"padding-left: 1em; padding-right: 1em; text-align: center\">sqft_living</th>\n",
       "        <th style=\"padding-left: 1em; padding-right: 1em; text-align: center\">sqft_lot</th>\n",
       "        <th style=\"padding-left: 1em; padding-right: 1em; text-align: center\">floors</th>\n",
       "        <th style=\"padding-left: 1em; padding-right: 1em; text-align: center\">waterfront</th>\n",
       "    </tr>\n",
       "    <tr>\n",
       "        <td style=\"padding-left: 1em; padding-right: 1em; text-align: center; vertical-align: top\">7129300520</td>\n",
       "        <td style=\"padding-left: 1em; padding-right: 1em; text-align: center; vertical-align: top\">2014-10-13 00:00:00+00:00</td>\n",
       "        <td style=\"padding-left: 1em; padding-right: 1em; text-align: center; vertical-align: top\">221900.0</td>\n",
       "        <td style=\"padding-left: 1em; padding-right: 1em; text-align: center; vertical-align: top\">3.0</td>\n",
       "        <td style=\"padding-left: 1em; padding-right: 1em; text-align: center; vertical-align: top\">1.0</td>\n",
       "        <td style=\"padding-left: 1em; padding-right: 1em; text-align: center; vertical-align: top\">1180.0</td>\n",
       "        <td style=\"padding-left: 1em; padding-right: 1em; text-align: center; vertical-align: top\">5650</td>\n",
       "        <td style=\"padding-left: 1em; padding-right: 1em; text-align: center; vertical-align: top\">1</td>\n",
       "        <td style=\"padding-left: 1em; padding-right: 1em; text-align: center; vertical-align: top\">0</td>\n",
       "    </tr>\n",
       "    <tr>\n",
       "        <td style=\"padding-left: 1em; padding-right: 1em; text-align: center; vertical-align: top\">6414100192</td>\n",
       "        <td style=\"padding-left: 1em; padding-right: 1em; text-align: center; vertical-align: top\">2014-12-09 00:00:00+00:00</td>\n",
       "        <td style=\"padding-left: 1em; padding-right: 1em; text-align: center; vertical-align: top\">538000.0</td>\n",
       "        <td style=\"padding-left: 1em; padding-right: 1em; text-align: center; vertical-align: top\">3.0</td>\n",
       "        <td style=\"padding-left: 1em; padding-right: 1em; text-align: center; vertical-align: top\">2.25</td>\n",
       "        <td style=\"padding-left: 1em; padding-right: 1em; text-align: center; vertical-align: top\">2570.0</td>\n",
       "        <td style=\"padding-left: 1em; padding-right: 1em; text-align: center; vertical-align: top\">7242</td>\n",
       "        <td style=\"padding-left: 1em; padding-right: 1em; text-align: center; vertical-align: top\">2</td>\n",
       "        <td style=\"padding-left: 1em; padding-right: 1em; text-align: center; vertical-align: top\">0</td>\n",
       "    </tr>\n",
       "    <tr>\n",
       "        <td style=\"padding-left: 1em; padding-right: 1em; text-align: center; vertical-align: top\">5631500400</td>\n",
       "        <td style=\"padding-left: 1em; padding-right: 1em; text-align: center; vertical-align: top\">2015-02-25 00:00:00+00:00</td>\n",
       "        <td style=\"padding-left: 1em; padding-right: 1em; text-align: center; vertical-align: top\">180000.0</td>\n",
       "        <td style=\"padding-left: 1em; padding-right: 1em; text-align: center; vertical-align: top\">2.0</td>\n",
       "        <td style=\"padding-left: 1em; padding-right: 1em; text-align: center; vertical-align: top\">1.0</td>\n",
       "        <td style=\"padding-left: 1em; padding-right: 1em; text-align: center; vertical-align: top\">770.0</td>\n",
       "        <td style=\"padding-left: 1em; padding-right: 1em; text-align: center; vertical-align: top\">10000</td>\n",
       "        <td style=\"padding-left: 1em; padding-right: 1em; text-align: center; vertical-align: top\">1</td>\n",
       "        <td style=\"padding-left: 1em; padding-right: 1em; text-align: center; vertical-align: top\">0</td>\n",
       "    </tr>\n",
       "    <tr>\n",
       "        <td style=\"padding-left: 1em; padding-right: 1em; text-align: center; vertical-align: top\">2487200875</td>\n",
       "        <td style=\"padding-left: 1em; padding-right: 1em; text-align: center; vertical-align: top\">2014-12-09 00:00:00+00:00</td>\n",
       "        <td style=\"padding-left: 1em; padding-right: 1em; text-align: center; vertical-align: top\">604000.0</td>\n",
       "        <td style=\"padding-left: 1em; padding-right: 1em; text-align: center; vertical-align: top\">4.0</td>\n",
       "        <td style=\"padding-left: 1em; padding-right: 1em; text-align: center; vertical-align: top\">3.0</td>\n",
       "        <td style=\"padding-left: 1em; padding-right: 1em; text-align: center; vertical-align: top\">1960.0</td>\n",
       "        <td style=\"padding-left: 1em; padding-right: 1em; text-align: center; vertical-align: top\">5000</td>\n",
       "        <td style=\"padding-left: 1em; padding-right: 1em; text-align: center; vertical-align: top\">1</td>\n",
       "        <td style=\"padding-left: 1em; padding-right: 1em; text-align: center; vertical-align: top\">0</td>\n",
       "    </tr>\n",
       "    <tr>\n",
       "        <td style=\"padding-left: 1em; padding-right: 1em; text-align: center; vertical-align: top\">1954400510</td>\n",
       "        <td style=\"padding-left: 1em; padding-right: 1em; text-align: center; vertical-align: top\">2015-02-18 00:00:00+00:00</td>\n",
       "        <td style=\"padding-left: 1em; padding-right: 1em; text-align: center; vertical-align: top\">510000.0</td>\n",
       "        <td style=\"padding-left: 1em; padding-right: 1em; text-align: center; vertical-align: top\">3.0</td>\n",
       "        <td style=\"padding-left: 1em; padding-right: 1em; text-align: center; vertical-align: top\">2.0</td>\n",
       "        <td style=\"padding-left: 1em; padding-right: 1em; text-align: center; vertical-align: top\">1680.0</td>\n",
       "        <td style=\"padding-left: 1em; padding-right: 1em; text-align: center; vertical-align: top\">8080</td>\n",
       "        <td style=\"padding-left: 1em; padding-right: 1em; text-align: center; vertical-align: top\">1</td>\n",
       "        <td style=\"padding-left: 1em; padding-right: 1em; text-align: center; vertical-align: top\">0</td>\n",
       "    </tr>\n",
       "    <tr>\n",
       "        <td style=\"padding-left: 1em; padding-right: 1em; text-align: center; vertical-align: top\">7237550310</td>\n",
       "        <td style=\"padding-left: 1em; padding-right: 1em; text-align: center; vertical-align: top\">2014-05-12 00:00:00+00:00</td>\n",
       "        <td style=\"padding-left: 1em; padding-right: 1em; text-align: center; vertical-align: top\">1225000.0</td>\n",
       "        <td style=\"padding-left: 1em; padding-right: 1em; text-align: center; vertical-align: top\">4.0</td>\n",
       "        <td style=\"padding-left: 1em; padding-right: 1em; text-align: center; vertical-align: top\">4.5</td>\n",
       "        <td style=\"padding-left: 1em; padding-right: 1em; text-align: center; vertical-align: top\">5420.0</td>\n",
       "        <td style=\"padding-left: 1em; padding-right: 1em; text-align: center; vertical-align: top\">101930</td>\n",
       "        <td style=\"padding-left: 1em; padding-right: 1em; text-align: center; vertical-align: top\">1</td>\n",
       "        <td style=\"padding-left: 1em; padding-right: 1em; text-align: center; vertical-align: top\">0</td>\n",
       "    </tr>\n",
       "    <tr>\n",
       "        <td style=\"padding-left: 1em; padding-right: 1em; text-align: center; vertical-align: top\">1321400060</td>\n",
       "        <td style=\"padding-left: 1em; padding-right: 1em; text-align: center; vertical-align: top\">2014-06-27 00:00:00+00:00</td>\n",
       "        <td style=\"padding-left: 1em; padding-right: 1em; text-align: center; vertical-align: top\">257500.0</td>\n",
       "        <td style=\"padding-left: 1em; padding-right: 1em; text-align: center; vertical-align: top\">3.0</td>\n",
       "        <td style=\"padding-left: 1em; padding-right: 1em; text-align: center; vertical-align: top\">2.25</td>\n",
       "        <td style=\"padding-left: 1em; padding-right: 1em; text-align: center; vertical-align: top\">1715.0</td>\n",
       "        <td style=\"padding-left: 1em; padding-right: 1em; text-align: center; vertical-align: top\">6819</td>\n",
       "        <td style=\"padding-left: 1em; padding-right: 1em; text-align: center; vertical-align: top\">2</td>\n",
       "        <td style=\"padding-left: 1em; padding-right: 1em; text-align: center; vertical-align: top\">0</td>\n",
       "    </tr>\n",
       "    <tr>\n",
       "        <td style=\"padding-left: 1em; padding-right: 1em; text-align: center; vertical-align: top\">2008000270</td>\n",
       "        <td style=\"padding-left: 1em; padding-right: 1em; text-align: center; vertical-align: top\">2015-01-15 00:00:00+00:00</td>\n",
       "        <td style=\"padding-left: 1em; padding-right: 1em; text-align: center; vertical-align: top\">291850.0</td>\n",
       "        <td style=\"padding-left: 1em; padding-right: 1em; text-align: center; vertical-align: top\">3.0</td>\n",
       "        <td style=\"padding-left: 1em; padding-right: 1em; text-align: center; vertical-align: top\">1.5</td>\n",
       "        <td style=\"padding-left: 1em; padding-right: 1em; text-align: center; vertical-align: top\">1060.0</td>\n",
       "        <td style=\"padding-left: 1em; padding-right: 1em; text-align: center; vertical-align: top\">9711</td>\n",
       "        <td style=\"padding-left: 1em; padding-right: 1em; text-align: center; vertical-align: top\">1</td>\n",
       "        <td style=\"padding-left: 1em; padding-right: 1em; text-align: center; vertical-align: top\">0</td>\n",
       "    </tr>\n",
       "    <tr>\n",
       "        <td style=\"padding-left: 1em; padding-right: 1em; text-align: center; vertical-align: top\">2414600126</td>\n",
       "        <td style=\"padding-left: 1em; padding-right: 1em; text-align: center; vertical-align: top\">2015-04-15 00:00:00+00:00</td>\n",
       "        <td style=\"padding-left: 1em; padding-right: 1em; text-align: center; vertical-align: top\">229500.0</td>\n",
       "        <td style=\"padding-left: 1em; padding-right: 1em; text-align: center; vertical-align: top\">3.0</td>\n",
       "        <td style=\"padding-left: 1em; padding-right: 1em; text-align: center; vertical-align: top\">1.0</td>\n",
       "        <td style=\"padding-left: 1em; padding-right: 1em; text-align: center; vertical-align: top\">1780.0</td>\n",
       "        <td style=\"padding-left: 1em; padding-right: 1em; text-align: center; vertical-align: top\">7470</td>\n",
       "        <td style=\"padding-left: 1em; padding-right: 1em; text-align: center; vertical-align: top\">1</td>\n",
       "        <td style=\"padding-left: 1em; padding-right: 1em; text-align: center; vertical-align: top\">0</td>\n",
       "    </tr>\n",
       "    <tr>\n",
       "        <td style=\"padding-left: 1em; padding-right: 1em; text-align: center; vertical-align: top\">3793500160</td>\n",
       "        <td style=\"padding-left: 1em; padding-right: 1em; text-align: center; vertical-align: top\">2015-03-12 00:00:00+00:00</td>\n",
       "        <td style=\"padding-left: 1em; padding-right: 1em; text-align: center; vertical-align: top\">323000.0</td>\n",
       "        <td style=\"padding-left: 1em; padding-right: 1em; text-align: center; vertical-align: top\">3.0</td>\n",
       "        <td style=\"padding-left: 1em; padding-right: 1em; text-align: center; vertical-align: top\">2.5</td>\n",
       "        <td style=\"padding-left: 1em; padding-right: 1em; text-align: center; vertical-align: top\">1890.0</td>\n",
       "        <td style=\"padding-left: 1em; padding-right: 1em; text-align: center; vertical-align: top\">6560</td>\n",
       "        <td style=\"padding-left: 1em; padding-right: 1em; text-align: center; vertical-align: top\">2</td>\n",
       "        <td style=\"padding-left: 1em; padding-right: 1em; text-align: center; vertical-align: top\">0</td>\n",
       "    </tr>\n",
       "</table>\n",
       "<table frame=\"box\" rules=\"cols\">\n",
       "    <tr>\n",
       "        <th style=\"padding-left: 1em; padding-right: 1em; text-align: center\">view</th>\n",
       "        <th style=\"padding-left: 1em; padding-right: 1em; text-align: center\">condition</th>\n",
       "        <th style=\"padding-left: 1em; padding-right: 1em; text-align: center\">grade</th>\n",
       "        <th style=\"padding-left: 1em; padding-right: 1em; text-align: center\">sqft_above</th>\n",
       "        <th style=\"padding-left: 1em; padding-right: 1em; text-align: center\">sqft_basement</th>\n",
       "        <th style=\"padding-left: 1em; padding-right: 1em; text-align: center\">yr_built</th>\n",
       "        <th style=\"padding-left: 1em; padding-right: 1em; text-align: center\">yr_renovated</th>\n",
       "        <th style=\"padding-left: 1em; padding-right: 1em; text-align: center\">zipcode</th>\n",
       "        <th style=\"padding-left: 1em; padding-right: 1em; text-align: center\">lat</th>\n",
       "    </tr>\n",
       "    <tr>\n",
       "        <td style=\"padding-left: 1em; padding-right: 1em; text-align: center; vertical-align: top\">0</td>\n",
       "        <td style=\"padding-left: 1em; padding-right: 1em; text-align: center; vertical-align: top\">3</td>\n",
       "        <td style=\"padding-left: 1em; padding-right: 1em; text-align: center; vertical-align: top\">7</td>\n",
       "        <td style=\"padding-left: 1em; padding-right: 1em; text-align: center; vertical-align: top\">1180</td>\n",
       "        <td style=\"padding-left: 1em; padding-right: 1em; text-align: center; vertical-align: top\">0</td>\n",
       "        <td style=\"padding-left: 1em; padding-right: 1em; text-align: center; vertical-align: top\">1955</td>\n",
       "        <td style=\"padding-left: 1em; padding-right: 1em; text-align: center; vertical-align: top\">0</td>\n",
       "        <td style=\"padding-left: 1em; padding-right: 1em; text-align: center; vertical-align: top\">98178</td>\n",
       "        <td style=\"padding-left: 1em; padding-right: 1em; text-align: center; vertical-align: top\">47.51123398</td>\n",
       "    </tr>\n",
       "    <tr>\n",
       "        <td style=\"padding-left: 1em; padding-right: 1em; text-align: center; vertical-align: top\">0</td>\n",
       "        <td style=\"padding-left: 1em; padding-right: 1em; text-align: center; vertical-align: top\">3</td>\n",
       "        <td style=\"padding-left: 1em; padding-right: 1em; text-align: center; vertical-align: top\">7</td>\n",
       "        <td style=\"padding-left: 1em; padding-right: 1em; text-align: center; vertical-align: top\">2170</td>\n",
       "        <td style=\"padding-left: 1em; padding-right: 1em; text-align: center; vertical-align: top\">400</td>\n",
       "        <td style=\"padding-left: 1em; padding-right: 1em; text-align: center; vertical-align: top\">1951</td>\n",
       "        <td style=\"padding-left: 1em; padding-right: 1em; text-align: center; vertical-align: top\">1991</td>\n",
       "        <td style=\"padding-left: 1em; padding-right: 1em; text-align: center; vertical-align: top\">98125</td>\n",
       "        <td style=\"padding-left: 1em; padding-right: 1em; text-align: center; vertical-align: top\">47.72102274</td>\n",
       "    </tr>\n",
       "    <tr>\n",
       "        <td style=\"padding-left: 1em; padding-right: 1em; text-align: center; vertical-align: top\">0</td>\n",
       "        <td style=\"padding-left: 1em; padding-right: 1em; text-align: center; vertical-align: top\">3</td>\n",
       "        <td style=\"padding-left: 1em; padding-right: 1em; text-align: center; vertical-align: top\">6</td>\n",
       "        <td style=\"padding-left: 1em; padding-right: 1em; text-align: center; vertical-align: top\">770</td>\n",
       "        <td style=\"padding-left: 1em; padding-right: 1em; text-align: center; vertical-align: top\">0</td>\n",
       "        <td style=\"padding-left: 1em; padding-right: 1em; text-align: center; vertical-align: top\">1933</td>\n",
       "        <td style=\"padding-left: 1em; padding-right: 1em; text-align: center; vertical-align: top\">0</td>\n",
       "        <td style=\"padding-left: 1em; padding-right: 1em; text-align: center; vertical-align: top\">98028</td>\n",
       "        <td style=\"padding-left: 1em; padding-right: 1em; text-align: center; vertical-align: top\">47.73792661</td>\n",
       "    </tr>\n",
       "    <tr>\n",
       "        <td style=\"padding-left: 1em; padding-right: 1em; text-align: center; vertical-align: top\">0</td>\n",
       "        <td style=\"padding-left: 1em; padding-right: 1em; text-align: center; vertical-align: top\">5</td>\n",
       "        <td style=\"padding-left: 1em; padding-right: 1em; text-align: center; vertical-align: top\">7</td>\n",
       "        <td style=\"padding-left: 1em; padding-right: 1em; text-align: center; vertical-align: top\">1050</td>\n",
       "        <td style=\"padding-left: 1em; padding-right: 1em; text-align: center; vertical-align: top\">910</td>\n",
       "        <td style=\"padding-left: 1em; padding-right: 1em; text-align: center; vertical-align: top\">1965</td>\n",
       "        <td style=\"padding-left: 1em; padding-right: 1em; text-align: center; vertical-align: top\">0</td>\n",
       "        <td style=\"padding-left: 1em; padding-right: 1em; text-align: center; vertical-align: top\">98136</td>\n",
       "        <td style=\"padding-left: 1em; padding-right: 1em; text-align: center; vertical-align: top\">47.52082</td>\n",
       "    </tr>\n",
       "    <tr>\n",
       "        <td style=\"padding-left: 1em; padding-right: 1em; text-align: center; vertical-align: top\">0</td>\n",
       "        <td style=\"padding-left: 1em; padding-right: 1em; text-align: center; vertical-align: top\">3</td>\n",
       "        <td style=\"padding-left: 1em; padding-right: 1em; text-align: center; vertical-align: top\">8</td>\n",
       "        <td style=\"padding-left: 1em; padding-right: 1em; text-align: center; vertical-align: top\">1680</td>\n",
       "        <td style=\"padding-left: 1em; padding-right: 1em; text-align: center; vertical-align: top\">0</td>\n",
       "        <td style=\"padding-left: 1em; padding-right: 1em; text-align: center; vertical-align: top\">1987</td>\n",
       "        <td style=\"padding-left: 1em; padding-right: 1em; text-align: center; vertical-align: top\">0</td>\n",
       "        <td style=\"padding-left: 1em; padding-right: 1em; text-align: center; vertical-align: top\">98074</td>\n",
       "        <td style=\"padding-left: 1em; padding-right: 1em; text-align: center; vertical-align: top\">47.61681228</td>\n",
       "    </tr>\n",
       "    <tr>\n",
       "        <td style=\"padding-left: 1em; padding-right: 1em; text-align: center; vertical-align: top\">0</td>\n",
       "        <td style=\"padding-left: 1em; padding-right: 1em; text-align: center; vertical-align: top\">3</td>\n",
       "        <td style=\"padding-left: 1em; padding-right: 1em; text-align: center; vertical-align: top\">11</td>\n",
       "        <td style=\"padding-left: 1em; padding-right: 1em; text-align: center; vertical-align: top\">3890</td>\n",
       "        <td style=\"padding-left: 1em; padding-right: 1em; text-align: center; vertical-align: top\">1530</td>\n",
       "        <td style=\"padding-left: 1em; padding-right: 1em; text-align: center; vertical-align: top\">2001</td>\n",
       "        <td style=\"padding-left: 1em; padding-right: 1em; text-align: center; vertical-align: top\">0</td>\n",
       "        <td style=\"padding-left: 1em; padding-right: 1em; text-align: center; vertical-align: top\">98053</td>\n",
       "        <td style=\"padding-left: 1em; padding-right: 1em; text-align: center; vertical-align: top\">47.65611835</td>\n",
       "    </tr>\n",
       "    <tr>\n",
       "        <td style=\"padding-left: 1em; padding-right: 1em; text-align: center; vertical-align: top\">0</td>\n",
       "        <td style=\"padding-left: 1em; padding-right: 1em; text-align: center; vertical-align: top\">3</td>\n",
       "        <td style=\"padding-left: 1em; padding-right: 1em; text-align: center; vertical-align: top\">7</td>\n",
       "        <td style=\"padding-left: 1em; padding-right: 1em; text-align: center; vertical-align: top\">1715</td>\n",
       "        <td style=\"padding-left: 1em; padding-right: 1em; text-align: center; vertical-align: top\">0</td>\n",
       "        <td style=\"padding-left: 1em; padding-right: 1em; text-align: center; vertical-align: top\">1995</td>\n",
       "        <td style=\"padding-left: 1em; padding-right: 1em; text-align: center; vertical-align: top\">0</td>\n",
       "        <td style=\"padding-left: 1em; padding-right: 1em; text-align: center; vertical-align: top\">98003</td>\n",
       "        <td style=\"padding-left: 1em; padding-right: 1em; text-align: center; vertical-align: top\">47.30972002</td>\n",
       "    </tr>\n",
       "    <tr>\n",
       "        <td style=\"padding-left: 1em; padding-right: 1em; text-align: center; vertical-align: top\">0</td>\n",
       "        <td style=\"padding-left: 1em; padding-right: 1em; text-align: center; vertical-align: top\">3</td>\n",
       "        <td style=\"padding-left: 1em; padding-right: 1em; text-align: center; vertical-align: top\">7</td>\n",
       "        <td style=\"padding-left: 1em; padding-right: 1em; text-align: center; vertical-align: top\">1060</td>\n",
       "        <td style=\"padding-left: 1em; padding-right: 1em; text-align: center; vertical-align: top\">0</td>\n",
       "        <td style=\"padding-left: 1em; padding-right: 1em; text-align: center; vertical-align: top\">1963</td>\n",
       "        <td style=\"padding-left: 1em; padding-right: 1em; text-align: center; vertical-align: top\">0</td>\n",
       "        <td style=\"padding-left: 1em; padding-right: 1em; text-align: center; vertical-align: top\">98198</td>\n",
       "        <td style=\"padding-left: 1em; padding-right: 1em; text-align: center; vertical-align: top\">47.40949984</td>\n",
       "    </tr>\n",
       "    <tr>\n",
       "        <td style=\"padding-left: 1em; padding-right: 1em; text-align: center; vertical-align: top\">0</td>\n",
       "        <td style=\"padding-left: 1em; padding-right: 1em; text-align: center; vertical-align: top\">3</td>\n",
       "        <td style=\"padding-left: 1em; padding-right: 1em; text-align: center; vertical-align: top\">7</td>\n",
       "        <td style=\"padding-left: 1em; padding-right: 1em; text-align: center; vertical-align: top\">1050</td>\n",
       "        <td style=\"padding-left: 1em; padding-right: 1em; text-align: center; vertical-align: top\">730</td>\n",
       "        <td style=\"padding-left: 1em; padding-right: 1em; text-align: center; vertical-align: top\">1960</td>\n",
       "        <td style=\"padding-left: 1em; padding-right: 1em; text-align: center; vertical-align: top\">0</td>\n",
       "        <td style=\"padding-left: 1em; padding-right: 1em; text-align: center; vertical-align: top\">98146</td>\n",
       "        <td style=\"padding-left: 1em; padding-right: 1em; text-align: center; vertical-align: top\">47.51229381</td>\n",
       "    </tr>\n",
       "    <tr>\n",
       "        <td style=\"padding-left: 1em; padding-right: 1em; text-align: center; vertical-align: top\">0</td>\n",
       "        <td style=\"padding-left: 1em; padding-right: 1em; text-align: center; vertical-align: top\">3</td>\n",
       "        <td style=\"padding-left: 1em; padding-right: 1em; text-align: center; vertical-align: top\">7</td>\n",
       "        <td style=\"padding-left: 1em; padding-right: 1em; text-align: center; vertical-align: top\">1890</td>\n",
       "        <td style=\"padding-left: 1em; padding-right: 1em; text-align: center; vertical-align: top\">0</td>\n",
       "        <td style=\"padding-left: 1em; padding-right: 1em; text-align: center; vertical-align: top\">2003</td>\n",
       "        <td style=\"padding-left: 1em; padding-right: 1em; text-align: center; vertical-align: top\">0</td>\n",
       "        <td style=\"padding-left: 1em; padding-right: 1em; text-align: center; vertical-align: top\">98038</td>\n",
       "        <td style=\"padding-left: 1em; padding-right: 1em; text-align: center; vertical-align: top\">47.36840673</td>\n",
       "    </tr>\n",
       "</table>\n",
       "<table frame=\"box\" rules=\"cols\">\n",
       "    <tr>\n",
       "        <th style=\"padding-left: 1em; padding-right: 1em; text-align: center\">long</th>\n",
       "        <th style=\"padding-left: 1em; padding-right: 1em; text-align: center\">sqft_living15</th>\n",
       "        <th style=\"padding-left: 1em; padding-right: 1em; text-align: center\">sqft_lot15</th>\n",
       "    </tr>\n",
       "    <tr>\n",
       "        <td style=\"padding-left: 1em; padding-right: 1em; text-align: center; vertical-align: top\">-122.25677536</td>\n",
       "        <td style=\"padding-left: 1em; padding-right: 1em; text-align: center; vertical-align: top\">1340.0</td>\n",
       "        <td style=\"padding-left: 1em; padding-right: 1em; text-align: center; vertical-align: top\">5650.0</td>\n",
       "    </tr>\n",
       "    <tr>\n",
       "        <td style=\"padding-left: 1em; padding-right: 1em; text-align: center; vertical-align: top\">-122.3188624</td>\n",
       "        <td style=\"padding-left: 1em; padding-right: 1em; text-align: center; vertical-align: top\">1690.0</td>\n",
       "        <td style=\"padding-left: 1em; padding-right: 1em; text-align: center; vertical-align: top\">7639.0</td>\n",
       "    </tr>\n",
       "    <tr>\n",
       "        <td style=\"padding-left: 1em; padding-right: 1em; text-align: center; vertical-align: top\">-122.23319601</td>\n",
       "        <td style=\"padding-left: 1em; padding-right: 1em; text-align: center; vertical-align: top\">2720.0</td>\n",
       "        <td style=\"padding-left: 1em; padding-right: 1em; text-align: center; vertical-align: top\">8062.0</td>\n",
       "    </tr>\n",
       "    <tr>\n",
       "        <td style=\"padding-left: 1em; padding-right: 1em; text-align: center; vertical-align: top\">-122.39318505</td>\n",
       "        <td style=\"padding-left: 1em; padding-right: 1em; text-align: center; vertical-align: top\">1360.0</td>\n",
       "        <td style=\"padding-left: 1em; padding-right: 1em; text-align: center; vertical-align: top\">5000.0</td>\n",
       "    </tr>\n",
       "    <tr>\n",
       "        <td style=\"padding-left: 1em; padding-right: 1em; text-align: center; vertical-align: top\">-122.04490059</td>\n",
       "        <td style=\"padding-left: 1em; padding-right: 1em; text-align: center; vertical-align: top\">1800.0</td>\n",
       "        <td style=\"padding-left: 1em; padding-right: 1em; text-align: center; vertical-align: top\">7503.0</td>\n",
       "    </tr>\n",
       "    <tr>\n",
       "        <td style=\"padding-left: 1em; padding-right: 1em; text-align: center; vertical-align: top\">-122.00528655</td>\n",
       "        <td style=\"padding-left: 1em; padding-right: 1em; text-align: center; vertical-align: top\">4760.0</td>\n",
       "        <td style=\"padding-left: 1em; padding-right: 1em; text-align: center; vertical-align: top\">101930.0</td>\n",
       "    </tr>\n",
       "    <tr>\n",
       "        <td style=\"padding-left: 1em; padding-right: 1em; text-align: center; vertical-align: top\">-122.32704857</td>\n",
       "        <td style=\"padding-left: 1em; padding-right: 1em; text-align: center; vertical-align: top\">2238.0</td>\n",
       "        <td style=\"padding-left: 1em; padding-right: 1em; text-align: center; vertical-align: top\">6819.0</td>\n",
       "    </tr>\n",
       "    <tr>\n",
       "        <td style=\"padding-left: 1em; padding-right: 1em; text-align: center; vertical-align: top\">-122.31457273</td>\n",
       "        <td style=\"padding-left: 1em; padding-right: 1em; text-align: center; vertical-align: top\">1650.0</td>\n",
       "        <td style=\"padding-left: 1em; padding-right: 1em; text-align: center; vertical-align: top\">9711.0</td>\n",
       "    </tr>\n",
       "    <tr>\n",
       "        <td style=\"padding-left: 1em; padding-right: 1em; text-align: center; vertical-align: top\">-122.33659507</td>\n",
       "        <td style=\"padding-left: 1em; padding-right: 1em; text-align: center; vertical-align: top\">1780.0</td>\n",
       "        <td style=\"padding-left: 1em; padding-right: 1em; text-align: center; vertical-align: top\">8113.0</td>\n",
       "    </tr>\n",
       "    <tr>\n",
       "        <td style=\"padding-left: 1em; padding-right: 1em; text-align: center; vertical-align: top\">-122.0308176</td>\n",
       "        <td style=\"padding-left: 1em; padding-right: 1em; text-align: center; vertical-align: top\">2390.0</td>\n",
       "        <td style=\"padding-left: 1em; padding-right: 1em; text-align: center; vertical-align: top\">7570.0</td>\n",
       "    </tr>\n",
       "</table>\n",
       "[10 rows x 21 columns]<br/>\n",
       "</div>"
      ],
      "text/plain": [
       "Columns:\n",
       "\tid\tstr\n",
       "\tdate\tdatetime\n",
       "\tprice\tfloat\n",
       "\tbedrooms\tfloat\n",
       "\tbathrooms\tfloat\n",
       "\tsqft_living\tfloat\n",
       "\tsqft_lot\tint\n",
       "\tfloors\tstr\n",
       "\twaterfront\tint\n",
       "\tview\tint\n",
       "\tcondition\tint\n",
       "\tgrade\tint\n",
       "\tsqft_above\tint\n",
       "\tsqft_basement\tint\n",
       "\tyr_built\tint\n",
       "\tyr_renovated\tint\n",
       "\tzipcode\tstr\n",
       "\tlat\tfloat\n",
       "\tlong\tfloat\n",
       "\tsqft_living15\tfloat\n",
       "\tsqft_lot15\tfloat\n",
       "\n",
       "Rows: 10\n",
       "\n",
       "Data:\n",
       "+------------+---------------------------+-----------+----------+-----------+\n",
       "|     id     |            date           |   price   | bedrooms | bathrooms |\n",
       "+------------+---------------------------+-----------+----------+-----------+\n",
       "| 7129300520 | 2014-10-13 00:00:00+00:00 |  221900.0 |   3.0    |    1.0    |\n",
       "| 6414100192 | 2014-12-09 00:00:00+00:00 |  538000.0 |   3.0    |    2.25   |\n",
       "| 5631500400 | 2015-02-25 00:00:00+00:00 |  180000.0 |   2.0    |    1.0    |\n",
       "| 2487200875 | 2014-12-09 00:00:00+00:00 |  604000.0 |   4.0    |    3.0    |\n",
       "| 1954400510 | 2015-02-18 00:00:00+00:00 |  510000.0 |   3.0    |    2.0    |\n",
       "| 7237550310 | 2014-05-12 00:00:00+00:00 | 1225000.0 |   4.0    |    4.5    |\n",
       "| 1321400060 | 2014-06-27 00:00:00+00:00 |  257500.0 |   3.0    |    2.25   |\n",
       "| 2008000270 | 2015-01-15 00:00:00+00:00 |  291850.0 |   3.0    |    1.5    |\n",
       "| 2414600126 | 2015-04-15 00:00:00+00:00 |  229500.0 |   3.0    |    1.0    |\n",
       "| 3793500160 | 2015-03-12 00:00:00+00:00 |  323000.0 |   3.0    |    2.5    |\n",
       "+------------+---------------------------+-----------+----------+-----------+\n",
       "+-------------+----------+--------+------------+------+-----------+-------+------------+\n",
       "| sqft_living | sqft_lot | floors | waterfront | view | condition | grade | sqft_above |\n",
       "+-------------+----------+--------+------------+------+-----------+-------+------------+\n",
       "|    1180.0   |   5650   |   1    |     0      |  0   |     3     |   7   |    1180    |\n",
       "|    2570.0   |   7242   |   2    |     0      |  0   |     3     |   7   |    2170    |\n",
       "|    770.0    |  10000   |   1    |     0      |  0   |     3     |   6   |    770     |\n",
       "|    1960.0   |   5000   |   1    |     0      |  0   |     5     |   7   |    1050    |\n",
       "|    1680.0   |   8080   |   1    |     0      |  0   |     3     |   8   |    1680    |\n",
       "|    5420.0   |  101930  |   1    |     0      |  0   |     3     |   11  |    3890    |\n",
       "|    1715.0   |   6819   |   2    |     0      |  0   |     3     |   7   |    1715    |\n",
       "|    1060.0   |   9711   |   1    |     0      |  0   |     3     |   7   |    1060    |\n",
       "|    1780.0   |   7470   |   1    |     0      |  0   |     3     |   7   |    1050    |\n",
       "|    1890.0   |   6560   |   2    |     0      |  0   |     3     |   7   |    1890    |\n",
       "+-------------+----------+--------+------------+------+-----------+-------+------------+\n",
       "+---------------+----------+--------------+---------+-------------+\n",
       "| sqft_basement | yr_built | yr_renovated | zipcode |     lat     |\n",
       "+---------------+----------+--------------+---------+-------------+\n",
       "|       0       |   1955   |      0       |  98178  | 47.51123398 |\n",
       "|      400      |   1951   |     1991     |  98125  | 47.72102274 |\n",
       "|       0       |   1933   |      0       |  98028  | 47.73792661 |\n",
       "|      910      |   1965   |      0       |  98136  |   47.52082  |\n",
       "|       0       |   1987   |      0       |  98074  | 47.61681228 |\n",
       "|      1530     |   2001   |      0       |  98053  | 47.65611835 |\n",
       "|       0       |   1995   |      0       |  98003  | 47.30972002 |\n",
       "|       0       |   1963   |      0       |  98198  | 47.40949984 |\n",
       "|      730      |   1960   |      0       |  98146  | 47.51229381 |\n",
       "|       0       |   2003   |      0       |  98038  | 47.36840673 |\n",
       "+---------------+----------+--------------+---------+-------------+\n",
       "+---------------+---------------+-----+\n",
       "|      long     | sqft_living15 | ... |\n",
       "+---------------+---------------+-----+\n",
       "| -122.25677536 |     1340.0    | ... |\n",
       "|  -122.3188624 |     1690.0    | ... |\n",
       "| -122.23319601 |     2720.0    | ... |\n",
       "| -122.39318505 |     1360.0    | ... |\n",
       "| -122.04490059 |     1800.0    | ... |\n",
       "| -122.00528655 |     4760.0    | ... |\n",
       "| -122.32704857 |     2238.0    | ... |\n",
       "| -122.31457273 |     1650.0    | ... |\n",
       "| -122.33659507 |     1780.0    | ... |\n",
       "|  -122.0308176 |     2390.0    | ... |\n",
       "+---------------+---------------+-----+\n",
       "[10 rows x 21 columns]"
      ]
     },
     "execution_count": 6,
     "metadata": {},
     "output_type": "execute_result"
    }
   ],
   "source": [
    "sales.head()"
   ]
  },
  {
   "cell_type": "markdown",
   "metadata": {},
   "source": [
    "# Useful SFrame summary functions"
   ]
  },
  {
   "cell_type": "markdown",
   "metadata": {},
   "source": [
    "In order to make use of the closed form solution as well as take advantage of graphlab's built in functions we will review some important ones. In particular:\n",
    "* Computing the sum of an SArray\n",
    "* Computing the arithmetic average (mean) of an SArray\n",
    "* multiplying SArrays by constants\n",
    "* multiplying SArrays by other SArrays"
   ]
  },
  {
   "cell_type": "code",
   "execution_count": 4,
   "metadata": {
    "collapsed": false
   },
   "outputs": [
    {
     "name": "stdout",
     "output_type": "stream",
     "text": [
      "average price via method 1: 540088.141905\n",
      "average price via method 2: 540088.141905\n"
     ]
    }
   ],
   "source": [
    "# Let's compute the mean of the House Prices in King County in 2 different ways.\n",
    "prices = sales['price'] # extract the price column of the sales SFrame -- this is now an SArray\n",
    "\n",
    "# recall that the arithmetic average (the mean) is the sum of the prices divided by the total number of houses:\n",
    "sum_prices = prices.sum()\n",
    "num_houses = prices.size() # when prices is an SArray .size() returns its length\n",
    "avg_price_1 = sum_prices/num_houses\n",
    "avg_price_2 = prices.mean() # if you just want the average, the .mean() function\n",
    "print \"average price via method 1: \" + str(avg_price_1)\n",
    "print \"average price via method 2: \" + str(avg_price_2)"
   ]
  },
  {
   "cell_type": "markdown",
   "metadata": {},
   "source": [
    "As we see we get the same answer both ways"
   ]
  },
  {
   "cell_type": "code",
   "execution_count": 5,
   "metadata": {
    "collapsed": false
   },
   "outputs": [
    {
     "name": "stdout",
     "output_type": "stream",
     "text": [
      "the sum of price squared is: 9.21732513355e+15\n"
     ]
    }
   ],
   "source": [
    "# if we want to multiply every price by 0.5 it's a simple as:\n",
    "half_prices = 0.5*prices\n",
    "# Let's compute the sum of squares of price. We can multiply two SArrays of the same length elementwise also with *\n",
    "prices_squared = prices*prices\n",
    "sum_prices_squared = prices_squared.sum() # price_squared is an SArray of the squares and we want to add them up.\n",
    "print \"the sum of price squared is: \" + str(sum_prices_squared)"
   ]
  },
  {
   "cell_type": "markdown",
   "metadata": {},
   "source": [
    "Aside: The python notation x.xxe+yy means x.xx \\* 10^(yy). e.g 100 = 10^2 = 1*10^2 = 1e2 "
   ]
  },
  {
   "cell_type": "markdown",
   "metadata": {},
   "source": [
    "# Build a generic simple linear regression function "
   ]
  },
  {
   "cell_type": "markdown",
   "metadata": {},
   "source": [
    "Armed with these SArray functions we can use the closed form solution found from lecture to compute the slope and intercept for a simple linear regression on observations stored as SArrays: input_feature, output.\n",
    "\n",
    "Complete the following function (or write your own) to compute the simple linear regression slope and intercept:"
   ]
  },
  {
   "cell_type": "code",
   "execution_count": 76,
   "metadata": {
    "collapsed": false
   },
   "outputs": [
    {
     "name": "stdout",
     "output_type": "stream",
     "text": [
      "5169477.56531\n"
     ]
    },
    {
     "ename": "AttributeError",
     "evalue": "'float' object has no attribute 'mean'",
     "output_type": "error",
     "traceback": [
      "\u001b[1;31m---------------------------------------------------------------------------\u001b[0m",
      "\u001b[1;31mAttributeError\u001b[0m                            Traceback (most recent call last)",
      "\u001b[1;32m<ipython-input-76-ea39e43e5c5d>\u001b[0m in \u001b[0;36m<module>\u001b[1;34m()\u001b[0m\n\u001b[0;32m      3\u001b[0m \u001b[1;33m\u001b[0m\u001b[0m\n\u001b[0;32m      4\u001b[0m \u001b[0mmean_n\u001b[0m \u001b[1;33m=\u001b[0m \u001b[0mspace\u001b[0m\u001b[1;33m.\u001b[0m\u001b[0msum\u001b[0m\u001b[1;33m(\u001b[0m\u001b[1;33m)\u001b[0m\u001b[1;33m/\u001b[0m\u001b[0mspace\u001b[0m\u001b[1;33m.\u001b[0m\u001b[0msize\u001b[0m\u001b[1;33m(\u001b[0m\u001b[1;33m)\u001b[0m\u001b[1;33m\u001b[0m\u001b[0m\n\u001b[1;32m----> 5\u001b[1;33m \u001b[0msquare_mean_2\u001b[0m \u001b[1;33m=\u001b[0m \u001b[1;33m(\u001b[0m\u001b[0mmean_n\u001b[0m\u001b[1;33m*\u001b[0m\u001b[0mmean_n\u001b[0m\u001b[1;33m)\u001b[0m\u001b[1;33m.\u001b[0m\u001b[0mmean\u001b[0m\u001b[1;33m(\u001b[0m\u001b[1;33m)\u001b[0m\u001b[1;33m\u001b[0m\u001b[0m\n\u001b[0m\u001b[0;32m      6\u001b[0m \u001b[1;32mprint\u001b[0m\u001b[1;33m(\u001b[0m\u001b[0msquare_mean_2\u001b[0m\u001b[1;33m)\u001b[0m\u001b[1;33m\u001b[0m\u001b[0m\n",
      "\u001b[1;31mAttributeError\u001b[0m: 'float' object has no attribute 'mean'"
     ]
    }
   ],
   "source": [
    "square_mean_1 = (space*space).mean()\n",
    "print(square_mean_1)\n",
    "\n",
    "mean_n = space.sum()/space.size()\n",
    "square_mean_2 = (mean_n*mean_n).mean()\n",
    "print(square_mean_2)"
   ]
  },
  {
   "cell_type": "code",
   "execution_count": 62,
   "metadata": {
    "collapsed": false
   },
   "outputs": [
    {
     "name": "stdout",
     "output_type": "stream",
     "text": [
      "2.93944075302e+13\n",
      "1360033661.7\n",
      "1360033661.7\n",
      "2079.89973627\n",
      "540088.141905\n",
      "5169477.56531\n",
      "1123329183.91\n"
     ]
    }
   ],
   "source": [
    "space = sales['sqft_living']\n",
    "\n",
    "X_sum = 10\n",
    "Y_sum = 45\n",
    "prod_sum = 140\n",
    "X_square_sum = 30\n",
    "\n",
    "num = (prod_sum-)\n",
    "#print(space_mean)\n",
    "price_mean = prices.mean()\n",
    "\n",
    "product = space*prices\n",
    "print(product.sum())\n",
    "print(product.mean())\n",
    "prod_mean = product.mean()\n",
    "print(prod_mean)\n",
    "print(space_mean)\n",
    "print(price_mean)\n",
    "space_squared = (space**2).mean()\n",
    "print(space_squared)\n",
    "print(space_mean*price_mean)\n",
    "\n",
    "num = (prod_mean-(price_mean*space_mean))\n",
    "\n",
    "#print(num)\n",
    "denom= space_squared-(space_mean*price_mean)\n",
    "#print(denom)\n",
    "slope = num/denom\n",
    "\n",
    "#print(slope)"
   ]
  },
  {
   "cell_type": "code",
   "execution_count": 63,
   "metadata": {
    "collapsed": false
   },
   "outputs": [
    {
     "data": {
      "application/javascript": [
       "$(\"head\").append($(\"<link/>\").attr({\n",
       "  rel:  \"stylesheet\",\n",
       "  type: \"text/css\",\n",
       "  href: \"//cdnjs.cloudflare.com/ajax/libs/font-awesome/4.1.0/css/font-awesome.min.css\"\n",
       "}));\n",
       "$(\"head\").append($(\"<link/>\").attr({\n",
       "  rel:  \"stylesheet\",\n",
       "  type: \"text/css\",\n",
       "  href: \"https://static.turi.com/products/graphlab-create/2.1/canvas/css/canvas.css\"\n",
       "}));\n",
       "\n",
       "            (function(){\n",
       "\n",
       "                var e = null;\n",
       "                if (typeof element == 'undefined') {\n",
       "                    var scripts = document.getElementsByTagName('script');\n",
       "                    var thisScriptTag = scripts[scripts.length-1];\n",
       "                    var parentDiv = thisScriptTag.parentNode;\n",
       "                    e = document.createElement('div');\n",
       "                    parentDiv.appendChild(e);\n",
       "                } else {\n",
       "                    e = element[0];\n",
       "                }\n",
       "\n",
       "                if (typeof requirejs !== 'undefined') {\n",
       "                    // disable load timeout; ipython_app.js is large and can take a while to load.\n",
       "                    requirejs.config({waitSeconds: 0});\n",
       "                }\n",
       "\n",
       "                require(['https://static.turi.com/products/graphlab-create/2.1/canvas/js/ipython_app.js'], function(IPythonApp){\n",
       "                    var app = new IPythonApp();\n",
       "                    app.attachView('sframe','Plots', {\"selected_variable\": {\"name\": [\"sales\"], \"descriptives\": {\"rows\": 21613, \"columns\": 21}, \"view_component\": \"Plots\", \"view_file\": \"sframe\", \"view_params\": {\"y\": \"price\", \"x\": \"sqft_living\", \"columns\": [\"id\", \"date\", \"price\", \"bedrooms\", \"bathrooms\", \"sqft_living\", \"sqft_lot\", \"floors\", \"waterfront\", \"view\", \"condition\", \"grade\", \"sqft_above\", \"sqft_basement\", \"yr_built\", \"yr_renovated\", \"zipcode\", \"lat\", \"long\", \"sqft_living15\", \"sqft_lot15\"], \"view\": \"Scatter Plot\"}, \"view_components\": [\"Summary\", \"Table\", \"Bar Chart\", \"BoxWhisker Plot\", \"Line Chart\", \"Scatter Plot\", \"Heat Map\", \"Plots\"], \"type\": \"SFrame\", \"columns\": [{\"dtype\": \"str\", \"name\": \"id\"}, {\"dtype\": \"datetime\", \"name\": \"date\"}, {\"dtype\": \"float\", \"name\": \"price\"}, {\"dtype\": \"float\", \"name\": \"bedrooms\"}, {\"dtype\": \"float\", \"name\": \"bathrooms\"}, {\"dtype\": \"float\", \"name\": \"sqft_living\"}, {\"dtype\": \"int\", \"name\": \"sqft_lot\"}, {\"dtype\": \"str\", \"name\": \"floors\"}, {\"dtype\": \"int\", \"name\": \"waterfront\"}, {\"dtype\": \"int\", \"name\": \"view\"}, {\"dtype\": \"int\", \"name\": \"condition\"}, {\"dtype\": \"int\", \"name\": \"grade\"}, {\"dtype\": \"int\", \"name\": \"sqft_above\"}, {\"dtype\": \"int\", \"name\": \"sqft_basement\"}, {\"dtype\": \"int\", \"name\": \"yr_built\"}, {\"dtype\": \"int\", \"name\": \"yr_renovated\"}, {\"dtype\": \"str\", \"name\": \"zipcode\"}, {\"dtype\": \"float\", \"name\": \"lat\"}, {\"dtype\": \"float\", \"name\": \"long\"}, {\"dtype\": \"float\", \"name\": \"sqft_living15\"}, {\"dtype\": \"float\", \"name\": \"sqft_lot15\"}], \"column_identifiers\": [\"bathrooms\", \"sqft_living15\", \"sqft_above\", \"grade\", \"yr_built\", \"price\", \"bedrooms\", \"zipcode\", \"long\", \"id\", \"sqft_lot15\", \"sqft_living\", \"floors\", \"sqft_lot\", \"date\", \"waterfront\", \"sqft_basement\", \"yr_renovated\", \"lat\", \"condition\", \"view\"]}, \"complete\": 1, \"ipython\": true, \"progress\": 1.0, \"data\": [[1070.0, 195000.0], [2990.0, 760000.0], [1072.0, 250000.0], [1780.0, 395000.0], [1110.0, 416000.0], [1950.0, 310000.0], [1490.0, 670000.0], [3520.0, 905000.0], [1630.0, 279000.0], [1510.0, 490000.0], [2400.0, 745000.0], [2550.0, 1186039.0], [1080.0, 218250.0], [1370.0, 400000.0], [1640.0, 402000.0], [2950.0, 650000.0], [1340.0, 425000.0], [2643.0, 376950.0], [2240.0, 1190000.0], [1560.0, 410000.0], [1870.0, 272000.0], [3360.0, 2193000.0], [1620.0, 512500.0], [1230.0, 439950.0], [1650.0, 500000.0], [2130.0, 850000.0], [2230.0, 337000.0], [1730.0, 445000.0], [1070.0, 200000.0], [3130.0, 685530.0], [4120.0, 1300000.0], [1750.0, 432000.0], [970.0, 205950.0], [1790.0, 603000.0], [1690.0, 295000.0], [2790.0, 695000.0], [1830.0, 499950.0], [1710.0, 543000.0], [2520.0, 720000.0], [3510.0, 695000.0], [1880.0, 554500.0], [4850.0, 3567000.0], [2300.0, 479500.0], [2500.0, 950000.0], [2440.0, 680000.0], [1930.0, 421000.0], [1060.0, 515000.0], [1020.0, 280000.0], [3330.0, 905000.0], [2140.0, 495000.0], [1000.0, 189900.0], [2130.0, 534950.0], [1410.0, 600000.0], [1640.0, 319000.0], [2170.0, 242050.0], [1960.0, 535000.0], [2130.0, 749000.0], [3630.0, 1180000.0], [1088.0, 238000.0], [2190.0, 602500.0], [1670.0, 450000.0], [2110.0, 603000.0], [2350.0, 400000.0], [2910.0, 925000.0], [1300.0, 412250.0], [2730.0, 599000.0], [2980.0, 330000.0], [1100.0, 395000.0], [1320.0, 393000.0], [3050.0, 865000.0], [1090.0, 365000.0], [2600.0, 695000.0], [2090.0, 477500.0], [3330.0, 750000.0], [2050.0, 790000.0], [2250.0, 569000.0], [800.0, 191000.0], [1760.0, 336500.0], [870.0, 230000.0], [1850.0, 254000.0], [2940.0, 605000.0], [2230.0, 635000.0], [1900.0, 620000.0], [1340.0, 252000.0], [3010.0, 659950.0], [2540.0, 580000.0], [2150.0, 371000.0], [1340.0, 520000.0], [2650.0, 715000.0], [1320.0, 195000.0], [2390.0, 350000.0], [980.0, 575000.0], [1670.0, 533000.0], [1580.0, 430000.0], [1030.0, 595000.0], [1550.0, 320000.0], [1370.0, 530000.0], [2080.0, 329800.0], [2960.0, 367000.0], [1220.0, 168000.0], [2320.0, 315000.0], [1730.0, 187000.0], [2796.0, 349950.0], [1260.0, 785000.0], [1150.0, 252000.0], [2570.0, 519000.0], [2510.0, 330000.0], [1570.0, 414950.0], [3140.0, 680000.0], [2280.0, 475000.0], [1260.0, 437500.0], [4390.0, 1278000.0], [1200.0, 275000.0], [1615.0, 665000.0], [1350.0, 255500.0], [1740.0, 575000.0], [1950.0, 750000.0], [2280.0, 625000.0], [1090.0, 249950.0], [2500.0, 1700000.0], [1590.0, 314950.0], [1170.0, 324800.0], [2220.0, 382450.0], [1440.0, 490000.0], [2650.0, 565000.0], [2360.0, 709000.0], [2700.0, 935000.0], [2160.0, 410000.0], [4080.0, 920000.0], [970.0, 339300.0], [2300.0, 535000.0], [2500.0, 950000.0], [1160.0, 405000.0], [2010.0, 453246.0], [770.0, 378510.0], [1320.0, 402000.0], [2240.0, 469000.0], [1590.0, 225500.0], [1350.0, 261000.0], [4040.0, 565000.0], [2040.0, 245000.0], [1060.0, 215000.0], [2830.0, 627250.0], [2650.0, 705000.0], [2040.0, 264900.0], [2160.0, 518000.0], [1990.0, 280000.0], [1540.0, 570000.0], [2010.0, 245000.0], [1680.0, 653500.0], [1080.0, 308000.0], [2830.0, 1100000.0], [1250.0, 282950.0], [1050.0, 474000.0], [1440.0, 567500.0], [2450.0, 555000.0], [3760.0, 1375000.0], [2400.0, 489950.0], [1500.0, 431000.0], [2650.0, 525000.0], [2040.0, 284000.0], [960.0, 208950.0], [2240.0, 331210.0], [1820.0, 705000.0], [4740.0, 1049000.0], [1610.0, 270000.0], [2780.0, 560000.0], [1680.0, 620000.0], [1410.0, 377500.0], [3610.0, 870000.0], [1130.0, 126500.0], [1380.0, 650000.0], [900.0, 304000.0], [1140.0, 200000.0], [2100.0, 375000.0], [2670.0, 408000.0], [3090.0, 938000.0], [880.0, 292500.0], [1840.0, 248000.0], [2360.0, 525000.0], [1810.0, 340500.0], [1340.0, 635000.0], [3000.0, 1075000.0], [2880.0, 920000.0], [1600.0, 329000.0], [2650.0, 790000.0], [3190.0, 864000.0], [2410.0, 446800.0], [1340.0, 399000.0], [2850.0, 1535000.0], [860.0, 370000.0], [1790.0, 494000.0], [1060.0, 170500.0], [1020.0, 216500.0], [1200.0, 369500.0], [1010.0, 450000.0], [2320.0, 429950.0], [2570.0, 605000.0], [2040.0, 250000.0], [1160.0, 306000.0], [1180.0, 455000.0], [1420.0, 264250.0], [2690.0, 1298888.0], [3700.0, 650000.0], [6055.0, 1760000.0], [1330.0, 787000.0], [1340.0, 615000.0], [1750.0, 265000.0], [2720.0, 599950.0], [2050.0, 623000.0], [4090.0, 1035000.0], [3010.0, 754999.0], [2240.0, 592500.0], [2720.0, 455950.0], [1540.0, 490000.0], [2150.0, 310000.0], [1300.0, 374990.0], [3260.0, 715000.0], [1260.0, 350000.0], [1850.0, 279950.0], [1000.0, 180000.0], [2210.0, 587000.0], [3290.0, 810000.0], [3100.0, 700000.0], [2520.0, 272000.0], [2718.0, 388500.0], [2320.0, 475000.0], [1150.0, 450000.0], [1200.0, 290000.0], [3362.0, 410500.0], [2160.0, 753000.0], [1070.0, 361500.0], [1850.0, 535000.0], [3230.0, 1260000.0], [880.0, 454000.0], [3550.0, 580000.0], [5480.0, 2400000.0], [930.0, 281000.0], [1788.0, 294400.0], [1930.0, 605000.0], [780.0, 135000.0], [1440.0, 560000.0], [2160.0, 1200000.0], [1440.0, 352000.0], [960.0, 305000.0], [1360.0, 430000.0], [2040.0, 506000.0], [3130.0, 1400000.0], [2040.0, 240000.0], [1330.0, 320000.0], [1810.0, 260000.0], [1350.0, 276900.0], [1750.0, 420000.0], [5470.0, 1612500.0], [1660.0, 452000.0], [1930.0, 289000.0], [2360.0, 385000.0], [3370.0, 1325000.0], [1930.0, 270000.0], [1310.0, 290000.0], [2210.0, 802000.0], [1270.0, 237000.0], [1280.0, 415000.0], [1000.0, 641500.0], [1210.0, 300000.0], [1740.0, 677915.0], [2260.0, 649000.0], [1820.0, 425000.0], [3360.0, 765000.0], [3550.0, 545000.0], [1000.0, 231500.0], [1620.0, 249950.0], [1630.0, 320000.0], [2250.0, 595000.0], [1120.0, 249950.0], [2090.0, 546200.0], [1490.0, 234000.0], [1120.0, 230000.0], [2530.0, 975000.0], [1250.0, 385000.0], [1820.0, 795000.0], [4690.0, 1015000.0], [3920.0, 1165000.0], [2510.0, 900000.0], [2390.0, 629800.0], [2130.0, 311100.0], [2500.0, 467000.0], [1670.0, 332500.0], [1430.0, 265000.0], [1940.0, 446000.0], [1530.0, 570000.0], [1580.0, 405100.0], [3410.0, 1225000.0], [3930.0, 1200000.0], [1510.0, 320000.0], [1480.0, 420000.0], [2620.0, 635000.0], [1510.0, 549000.0], [1920.0, 571000.0], [1340.0, 907000.0], [3640.0, 913000.0], [1180.0, 313000.0], [1440.0, 323000.0], [1080.0, 425000.0], [4190.0, 2546000.0], [2160.0, 354000.0], [1322.0, 215000.0], [1710.0, 275000.0], [3500.0, 917000.0], [1500.0, 670000.0], [1150.0, 361000.0], [1150.0, 463000.0], [3510.0, 915000.0], [1530.0, 635000.0], [4340.0, 2150000.0], [1230.0, 320000.0], [2230.0, 448000.0], [3210.0, 1289000.0], [1940.0, 790000.0], [4470.0, 2950000.0], [5080.0, 1900000.0], [3270.0, 835000.0], [2000.0, 320000.0], [1540.0, 530100.0], [3070.0, 1570000.0], [1660.0, 638000.0], [2350.0, 464950.0], [1090.0, 440000.0], [2430.0, 425000.0], [1840.0, 350000.0], [880.0, 330000.0], [1470.0, 615000.0], [1680.0, 366000.0], [2140.0, 603500.0], [1490.0, 275000.0], [2210.0, 263500.0], [1260.0, 390000.0], [1520.0, 434900.0], [1970.0, 291700.0], [1450.0, 265500.0], [1400.0, 322000.0], [1890.0, 325000.0], [2500.0, 1142000.0], [3550.0, 575000.0], [1970.0, 415000.0], [2360.0, 499900.0], [2200.0, 259875.0], [2060.0, 275000.0], [2510.0, 955000.0], [3270.0, 765000.0], [4070.0, 710000.0], [2130.0, 305000.0], [1790.0, 450000.0], [2990.0, 469900.0], [1960.0, 450000.0], [2010.0, 875000.0], [2230.0, 480000.0], [1290.0, 305000.0], [1430.0, 285000.0], [2290.0, 975000.0], [2290.0, 565000.0], [2040.0, 534000.0], [2290.0, 209950.0], [2110.0, 604950.0], [1610.0, 268000.0], [2000.0, 630000.0], [1790.0, 297000.0], [1840.0, 275000.0], [1770.0, 375000.0], [2430.0, 335000.0], [2610.0, 757000.0], [2840.0, 557000.0], [2090.0, 349950.0], [2000.0, 593700.0], [3290.0, 680000.0], [1810.0, 515000.0], [5670.0, 935000.0], [1300.0, 385000.0], [3350.0, 740000.0], [1440.0, 285000.0], [2990.0, 800000.0], [2290.0, 580000.0], [1860.0, 440000.0], [2200.0, 349900.0], [1590.0, 330000.0], [2510.0, 799000.0], [1120.0, 305000.0], [1960.0, 600000.0], [2120.0, 637000.0], [1840.0, 625000.0], [1700.0, 349950.0], [1980.0, 490000.0], [1900.0, 615000.0], [1060.0, 160000.0], [1630.0, 308000.0], [700.0, 248000.0], [2620.0, 968060.0], [1360.0, 500000.0], [1720.0, 550000.0], [970.0, 315000.0], [2240.0, 905000.0], [910.0, 254000.0], [1740.0, 555000.0], [2570.0, 634000.0], [2980.0, 1225000.0], [2210.0, 250250.0], [1646.0, 305000.0], [1530.0, 575000.0], [3770.0, 1495000.0], [2840.0, 840000.0], [1470.0, 479000.0], [4660.0, 739000.0], [4050.0, 450000.0], [2000.0, 577500.0], [3030.0, 790000.0], [2600.0, 392000.0], [2350.0, 449000.0], [1840.0, 550000.0], [2840.0, 735000.0], [1290.0, 220000.0], [4930.0, 1465000.0], [2990.0, 760000.0], [1460.0, 1010000.0], [1120.0, 440000.0], [2130.0, 316000.0], [2440.0, 1005000.0], [2190.0, 310000.0], [2100.0, 477000.0], [1410.0, 418000.0], [3570.0, 942500.0], [1170.0, 250000.0], [2460.0, 261500.0], [1540.0, 420000.0], [1330.0, 234999.0], [1770.0, 638500.0], [720.0, 295000.0], [2030.0, 380000.0], [1979.0, 339000.0], [2080.0, 350500.0], [1310.0, 325000.0], [1580.0, 255000.0], [1590.0, 529000.0], [1420.0, 641000.0], [5570.0, 1855000.0], [880.0, 196000.0], [1880.0, 550000.0], [3010.0, 998160.0], [3180.0, 736500.0], [3680.0, 1050000.0], [3410.0, 774950.0], [2020.0, 335000.0], [1710.0, 522500.0], [1530.0, 220000.0], [1490.0, 184000.0], [2410.0, 485000.0], [3540.0, 707000.0], [1720.0, 255000.0], [1140.0, 560000.0], [1440.0, 265000.0], [2270.0, 619850.0], [1580.0, 550000.0], [3580.0, 2050000.0], [2920.0, 675000.0], [1280.0, 552000.0], [2460.0, 485000.0], [1120.0, 465000.0], [1710.0, 158550.0], [1080.0, 275000.0], [1600.0, 329000.0], [2250.0, 585000.0], [910.0, 165000.0], [2610.0, 535000.0], [960.0, 545000.0], [5150.0, 2250000.0], [2090.0, 400000.0], [1400.0, 320000.0], [2070.0, 440000.0], [1700.0, 189000.0], [2550.0, 272000.0], [1580.0, 379000.0], [1670.0, 375000.0], [3200.0, 935100.0], [3180.0, 510000.0], [1300.0, 252000.0], [930.0, 141800.0], [1410.0, 261500.0], [3270.0, 785000.0], [1760.0, 428950.0], [1890.0, 315000.0], [3530.0, 2367000.0], [1410.0, 279900.0], [830.0, 425000.0], [1330.0, 440000.0], [1430.0, 465000.0], [4120.0, 1851000.0], [980.0, 463800.0], [1920.0, 329950.0], [2230.0, 679950.0], [1088.0, 250000.0], [2380.0, 350000.0], [1540.0, 565000.0], [2890.0, 799200.0], [3080.0, 489000.0], [3830.0, 963990.0], [1720.0, 304000.0], [1320.0, 256500.0], [1720.0, 323000.0], [2860.0, 499950.0], [1620.0, 445000.0], [1420.0, 413107.0], [1750.0, 707900.0], [1000.0, 159995.0], [2610.0, 725000.0], [4040.0, 760000.0], [1890.0, 495000.0], [2540.0, 719000.0], [1750.0, 312000.0], [860.0, 195000.0], [1340.0, 360000.0], [1430.0, 425000.0], [1430.0, 195000.0], [1230.0, 275000.0], [2440.0, 338000.0], [2675.0, 660000.0], [4010.0, 1735000.0], [2930.0, 718000.0], [1710.0, 502000.0], [2480.0, 481000.0], [2390.0, 1185000.0], [3488.0, 815000.0], [1430.0, 351000.0], [1420.0, 408000.0], [1730.0, 258000.0], [1720.0, 279950.0], [4390.0, 1050000.0], [1850.0, 461000.0], [2450.0, 850000.0], [1770.0, 632500.0], [2850.0, 550000.0], [2210.0, 625000.0], [1630.0, 312900.0], [1230.0, 325000.0], [3140.0, 529888.0], [4270.0, 1610000.0], [710.0, 399950.0], [1850.0, 257200.0], [2280.0, 628000.0], [2240.0, 242000.0], [1790.0, 392000.0], [820.0, 150000.0], [2810.0, 600000.0], [1380.0, 285000.0], [2090.0, 315000.0], [1720.0, 290256.0], [2770.0, 711000.0], [3300.0, 510000.0], [2740.0, 438900.0], [2790.0, 865000.0], [1840.0, 380000.0], [2000.0, 245000.0], [2244.0, 269950.0], [2330.0, 565000.0], [1520.0, 230000.0], [2840.0, 784950.0], [2080.0, 638700.0], [1130.0, 322500.0], [1560.0, 448000.0], [2800.0, 915000.0], [1770.0, 464000.0], [2080.0, 442000.0], [2260.0, 350000.0], [1540.0, 450000.0], [2810.0, 1169000.0], [1260.0, 530000.0], [3150.0, 935000.0], [2550.0, 375900.0], [2890.0, 706000.0], [1150.0, 390000.0], [1920.0, 372000.0], [3410.0, 500000.0], [1470.0, 652000.0], [1380.0, 275000.0], [2140.0, 620000.0], [2520.0, 536000.0], [4440.0, 959000.0], [2210.0, 343000.0], [1170.0, 235000.0], [3180.0, 900000.0], [1160.0, 280000.0], [3820.0, 1215000.0], [2440.0, 662700.0], [2270.0, 766000.0], [4160.0, 530000.0], [1310.0, 170000.0], [1990.0, 310000.0], [1460.0, 240500.0], [1870.0, 310000.0], [1690.0, 338000.0], [2700.0, 565000.0], [2360.0, 535000.0], [2880.0, 440000.0], [2420.0, 399950.0], [1440.0, 530000.0], [2090.0, 288000.0], [1880.0, 334950.0], [1460.0, 430000.0], [2480.0, 475000.0], [1470.0, 687015.0], [3650.0, 1518634.0], [830.0, 110000.0], [1920.0, 535000.0], [1870.0, 650000.0], [3050.0, 890000.0], [3050.0, 1038000.0], [1640.0, 465000.0], [1420.0, 435000.0], [1670.0, 475200.0], [2020.0, 463000.0], [1260.0, 259000.0], [3680.0, 755000.0], [2110.0, 525000.0], [890.0, 455000.0], [1490.0, 615000.0], [920.0, 363000.0], [2780.0, 995000.0], [1230.0, 385000.0], [2300.0, 675000.0], [2900.0, 926500.0], [3890.0, 772500.0], [3440.0, 855000.0], [4530.0, 1115000.0], [2014.0, 321000.0], [840.0, 185000.0], [3310.0, 670000.0], [962.0, 390000.0], [2510.0, 550000.0], [2680.0, 930000.0], [1420.0, 147200.0], [1150.0, 288000.0], [1620.0, 580000.0], [1490.0, 520000.0], [1420.0, 240000.0], [1710.0, 620000.0], [1460.0, 175000.0], [3240.0, 654000.0], [2370.0, 510000.0], [1680.0, 545000.0], [2300.0, 435000.0], [1240.0, 355000.0], [1840.0, 285000.0], [3170.0, 777000.0], [3040.0, 799950.0], [1380.0, 345000.0], [2910.0, 525000.0], [980.0, 375000.0], [1300.0, 375000.0], [384.0, 265000.0], [1610.0, 305000.0], [1250.0, 165000.0], [1980.0, 660000.0], [1560.0, 500000.0], [1780.0, 292000.0], [1940.0, 781000.0], [2470.0, 338000.0], [2500.0, 639000.0], [2450.0, 555000.0], [2230.0, 482000.0], [2630.0, 655000.0], [3160.0, 655000.0], [1360.0, 239000.0], [4140.0, 950000.0], [2060.0, 348000.0], [5020.0, 3600000.0], [5510.0, 3800000.0], [3010.0, 728725.0], [3970.0, 2300000.0], [1630.0, 280000.0], [1510.0, 270000.0], [790.0, 439000.0], [2000.0, 470000.0], [2020.0, 532000.0], [2640.0, 698000.0], [1730.0, 287000.0], [700.0, 282150.0], [2590.0, 620000.0], [1490.0, 255000.0], [1310.0, 200000.0], [2360.0, 615000.0], [1440.0, 650000.0], [3720.0, 960000.0], [1590.0, 323000.0], [1560.0, 422500.0], [3080.0, 866500.0], [3160.0, 467500.0], [1490.0, 271000.0], [2260.0, 367000.0], [840.0, 208417.0], [2100.0, 640000.0], [1390.0, 400000.0], [1780.0, 246000.0], [2900.0, 310000.0], [1390.0, 191950.0], [1890.0, 398000.0], [1300.0, 270000.0], [3770.0, 1450000.0], [1190.0, 500000.0], [1350.0, 499950.0], [2750.0, 357000.0], [1810.0, 626000.0], [2100.0, 420000.0], [1820.0, 275000.0], [1450.0, 243000.0], [1400.0, 295000.0], [1320.0, 385000.0], [1360.0, 296000.0], [2080.0, 424240.0], [2440.0, 620000.0], [2251.0, 305000.0], [2340.0, 570000.0], [1460.0, 395000.0], [2820.0, 321027.0], [1870.0, 580000.0], [2700.0, 524950.0], [1140.0, 695000.0], [1240.0, 230000.0], [2430.0, 402000.0], [2990.0, 440000.0], [1720.0, 360000.0], [3000.0, 780000.0], [3360.0, 834995.0], [3390.0, 835000.0], [1540.0, 315000.0], [1910.0, 475000.0], [1550.0, 440000.0], [2190.0, 435000.0], [1350.0, 389000.0], [1850.0, 305500.0], [3340.0, 1150000.0], [3020.0, 575000.0], [3650.0, 1310000.0], [2740.0, 259000.0], [1400.0, 311000.0], [1840.0, 639000.0], [1650.0, 390000.0], [1350.0, 240000.0], [2940.0, 560000.0], [2600.0, 1017000.0], [2650.0, 325000.0], [2210.0, 685000.0], [3540.0, 925000.0], [760.0, 122000.0], [1650.0, 517000.0], [2630.0, 852500.0], [1660.0, 675000.0], [2460.0, 640000.0], [1290.0, 359950.0], [1760.0, 264000.0], [1230.0, 324950.0], [3190.0, 625000.0], [1480.0, 283000.0], [3970.0, 811500.0], [2510.0, 667000.0], [2350.0, 1050000.0], [1530.0, 230000.0], [3220.0, 689000.0], [1830.0, 639000.0], [3250.0, 791500.0], [3140.0, 920000.0], [1090.0, 197000.0], [790.0, 395000.0], [2020.0, 677500.0], [3210.0, 399950.0], [2200.0, 655000.0], [2100.0, 283500.0], [1340.0, 303000.0], [2980.0, 595000.0], [1600.0, 325000.0], [2000.0, 585000.0], [1260.0, 333000.0], [2750.0, 333000.0], [880.0, 400000.0], [1750.0, 524950.0], [1250.0, 225000.0], [1650.0, 550000.0], [1970.0, 360000.0], [5190.0, 925000.0], [1250.0, 458500.0], [1830.0, 354000.0], [1270.0, 275000.0], [4010.0, 1395000.0], [1590.0, 284850.0], [2120.0, 369160.0], [2200.0, 410000.0], [1300.0, 219950.0], [1280.0, 249000.0], [3510.0, 970000.0], [1200.0, 464950.0], [1440.0, 275000.0], [2290.0, 367950.0], [3870.0, 1440000.0], [1370.0, 655000.0], [1130.0, 343000.0], [1540.0, 302000.0], [2420.0, 482000.0], [1850.0, 315000.0], [2780.0, 479950.0], [4750.0, 2175000.0], [1340.0, 290000.0], [2640.0, 632500.0], [1950.0, 361000.0], [1250.0, 345000.0], [1690.0, 600000.0], [3700.0, 415000.0], [1880.0, 395900.0], [2240.0, 325000.0], [2620.0, 557500.0], [1460.0, 381000.0], [1530.0, 332000.0], [930.0, 445000.0], [710.0, 216000.0], [2450.0, 969000.0], [2140.0, 393000.0], [1780.0, 450000.0], [3140.0, 345000.0], [1020.0, 225000.0], [1440.0, 450000.0], [1760.0, 247500.0], [1300.0, 175000.0], [1280.0, 549900.0], [2130.0, 450000.0], [1850.0, 510000.0], [2080.0, 700000.0], [1660.0, 578000.0], [2690.0, 597157.0], [2980.0, 382500.0], [900.0, 140000.0], [1870.0, 521000.0], [3700.0, 1250000.0], [2270.0, 643000.0], [3180.0, 960000.0], [1270.0, 415000.0], [1850.0, 295000.0], [1660.0, 515000.0], [1480.0, 520000.0], [790.0, 280000.0], [1490.0, 467500.0], [2580.0, 787888.0], [4340.0, 1090000.0], [2120.0, 332000.0], [1370.0, 231000.0], [1000.0, 210000.0], [1900.0, 275000.0], [1210.0, 610000.0], [2300.0, 312500.0], [1760.0, 715000.0], [3310.0, 803100.0], [1100.0, 192500.0], [1250.0, 268000.0], [1490.0, 348000.0], [3920.0, 1000000.0], [3670.0, 1250000.0], [5130.0, 1599950.0], [1710.0, 431000.0], [7320.0, 1135250.0], [1980.0, 437000.0], [3410.0, 1405000.0], [3470.0, 1300000.0], [2100.0, 305000.0], [900.0, 320000.0], [1200.0, 213000.0], [1660.0, 392500.0], [1770.0, 507000.0], [3530.0, 910000.0], [1560.0, 579000.0], [1600.0, 480000.0], [1730.0, 423000.0], [1790.0, 790000.0], [2180.0, 464000.0], [1830.0, 323000.0], [2070.0, 1350000.0], [2400.0, 608000.0], [1640.0, 480000.0], [2260.0, 359950.0], [1770.0, 440000.0], [1360.0, 499950.0], [1230.0, 147500.0], [960.0, 362500.0], [1610.0, 630000.0], [870.0, 183000.0], [1400.0, 403000.0], [2530.0, 590000.0], [4260.0, 994000.0], [1010.0, 300000.0], [990.0, 158000.0], [940.0, 725000.0], [2260.0, 525000.0], [5000.0, 1250000.0], [2320.0, 675000.0], [6200.0, 1959000.0], [1150.0, 825000.0], [3040.0, 870000.0], [4400.0, 1050000.0], [930.0, 250000.0], [1130.0, 182200.0], [2030.0, 365000.0], [1360.0, 234950.0], [4410.0, 1268888.0], [1710.0, 247500.0], [1620.0, 260656.0], [1680.0, 350000.0], [2267.0, 306000.0], [1640.0, 1155000.0], [1710.0, 488500.0], [1580.0, 210000.0], [1520.0, 160000.0], [3900.0, 1650000.0], [1110.0, 223000.0], [1690.0, 399990.0], [1000.0, 270000.0], [870.0, 435000.0], [3030.0, 837219.0], [3600.0, 1698000.0], [960.0, 420000.0], [2380.0, 800000.0], [1200.0, 355000.0], [3800.0, 575000.0], [1080.0, 460000.0], [2240.0, 452500.0], [1280.0, 670000.0], [1920.0, 320000.0], [3170.0, 750000.0], [4440.0, 1037000.0], [2330.0, 325000.0], [1560.0, 299900.0], [2980.0, 728935.0], [2870.0, 460000.0], [2900.0, 312000.0], [3190.0, 814842.0], [1460.0, 355000.0], [1400.0, 264950.0], [1090.0, 190000.0], [1730.0, 299000.0], [1500.0, 300000.0], [2690.0, 563750.0], [2000.0, 244000.0], [1590.0, 300000.0], [4720.0, 860000.0], [1950.0, 560000.0], [3090.0, 567500.0], [2720.0, 560000.0], [4220.0, 1635000.0], [1930.0, 326000.0], [2670.0, 339950.0], [2410.0, 449500.0], [2670.0, 465750.0], [1390.0, 230000.0], [5370.0, 790000.0], [2290.0, 435000.0], [2547.0, 392440.0], [1170.0, 335000.0], [2500.0, 525000.0], [2720.0, 739000.0], [2450.0, 939000.0], [1650.0, 730000.0], [1690.0, 452000.0], [3020.0, 530000.0], [1780.0, 375000.0], [1760.0, 355000.0], [1340.0, 199950.0], [3460.0, 730000.0], [3130.0, 1333000.0], [2020.0, 290000.0], [1660.0, 432000.0], [840.0, 290000.0], [960.0, 490000.0], [1590.0, 330000.0], [2110.0, 496000.0], [1510.0, 202500.0], [1470.0, 225000.0], [1280.0, 375000.0], [1810.0, 325000.0], [4860.0, 2950000.0], [1880.0, 538000.0], [1970.0, 429800.0], [2190.0, 1565000.0], [1970.0, 350000.0], [1280.0, 300000.0], [1480.0, 260000.0], [1490.0, 550000.0], [1740.0, 600000.0], [2060.0, 715000.0], [1090.0, 185000.0], [2280.0, 649800.0], [770.0, 275000.0], [740.0, 178500.0], [4380.0, 1400000.0], [1590.0, 199950.0], [1010.0, 340000.0], [2880.0, 285000.0], [3190.0, 535000.0]], \"columns\": [{\"dtype\": \"str\", \"name\": \"id\"}, {\"dtype\": \"datetime\", \"name\": \"date\"}, {\"dtype\": \"float\", \"name\": \"price\"}, {\"dtype\": \"float\", \"name\": \"bedrooms\"}, {\"dtype\": \"float\", \"name\": \"bathrooms\"}, {\"dtype\": \"float\", \"name\": \"sqft_living\"}, {\"dtype\": \"int\", \"name\": \"sqft_lot\"}, {\"dtype\": \"str\", \"name\": \"floors\"}, {\"dtype\": \"int\", \"name\": \"waterfront\"}, {\"dtype\": \"int\", \"name\": \"view\"}, {\"dtype\": \"int\", \"name\": \"condition\"}, {\"dtype\": \"int\", \"name\": \"grade\"}, {\"dtype\": \"int\", \"name\": \"sqft_above\"}, {\"dtype\": \"int\", \"name\": \"sqft_basement\"}, {\"dtype\": \"int\", \"name\": \"yr_built\"}, {\"dtype\": \"int\", \"name\": \"yr_renovated\"}, {\"dtype\": \"str\", \"name\": \"zipcode\"}, {\"dtype\": \"float\", \"name\": \"lat\"}, {\"dtype\": \"float\", \"name\": \"long\"}, {\"dtype\": \"float\", \"name\": \"sqft_living15\"}, {\"dtype\": \"float\", \"name\": \"sqft_lot15\"}]}, e);\n",
       "                });\n",
       "            })();\n",
       "        "
      ]
     },
     "metadata": {},
     "output_type": "display_data"
    }
   ],
   "source": [
    "graphlab.canvas.set_target('ipynb')\n",
    "sales.show(view='Scatter Plot', x = 'sqft_living',y = 'price')"
   ]
  },
  {
   "cell_type": "code",
   "execution_count": 89,
   "metadata": {
    "collapsed": false
   },
   "outputs": [],
   "source": [
    "def simple_linear_regression(input_feature, output):\n",
    "    # compute the mean of input_feature and output\n",
    "    X_sum = input_feature.sum()\n",
    "    N = input_feature.size()\n",
    "    Y_sum = output.sum()\n",
    "    X_mean = input_feature.mean()\n",
    "    Y_mean = output.mean()\n",
    "    # compute the product of the output and the input_feature and its sum\n",
    "    prod = input_feature*output\n",
    "    prod_sum = prod.sum()\n",
    "    # compute the squared value of the input_feature and its sum\n",
    "    X_squared_sum= (input_feature*input_feature).sum()\n",
    "    # use the formula for the slope\n",
    "    num = (prod_sum-(1/N*(Y_sum*X_sum)))\n",
    "    denom =(X_squared_sum-(1/N*(X_sum*X_sum)))\n",
    "    slope = num/denom\n",
    "    # use the formula for the intercept\n",
    "    intercept = (Y_mean) - slope*(X_mean)\n",
    "    return (intercept, slope)"
   ]
  },
  {
   "cell_type": "code",
   "execution_count": null,
   "metadata": {
    "collapsed": false
   },
   "outputs": [],
   "source": [
    "\n"
   ]
  },
  {
   "cell_type": "markdown",
   "metadata": {},
   "source": [
    "We can test that our function works by passing it something where we know the answer. In particular we can generate a feature and then put the output exactly on a line: output = 1 + 1\\*input_feature then we know both our slope and intercept should be 1"
   ]
  },
  {
   "cell_type": "code",
   "execution_count": 90,
   "metadata": {
    "collapsed": false,
    "scrolled": true
   },
   "outputs": [
    {
     "name": "stdout",
     "output_type": "stream",
     "text": [
      "Intercept: 1.0\n",
      "Slope: 1.0\n"
     ]
    }
   ],
   "source": [
    "test_feature = graphlab.SArray(range(5))\n",
    "test_output = graphlab.SArray(1 + 1*test_feature)\n",
    "(test_intercept, test_slope) =  simple_linear_regression(test_feature, test_output)\n",
    "print \"Intercept: \" + str(test_intercept)\n",
    "print \"Slope: \" + str(test_slope)"
   ]
  },
  {
   "cell_type": "markdown",
   "metadata": {},
   "source": [
    "Now that we know it works let's build a regression model for predicting price based on sqft_living. Rembember that we train on train_data!"
   ]
  },
  {
   "cell_type": "code",
   "execution_count": 91,
   "metadata": {
    "collapsed": false
   },
   "outputs": [
    {
     "name": "stdout",
     "output_type": "stream",
     "text": [
      "Intercept: -47116.0765749\n",
      "Slope: 281.958838568\n"
     ]
    }
   ],
   "source": [
    "sqft_intercept, sqft_slope = simple_linear_regression(train_data['sqft_living'], train_data['price'])\n",
    "\n",
    "print \"Intercept: \" + str(sqft_intercept)\n",
    "print \"Slope: \" + str(sqft_slope)"
   ]
  },
  {
   "cell_type": "markdown",
   "metadata": {},
   "source": [
    "# Predicting Values"
   ]
  },
  {
   "cell_type": "markdown",
   "metadata": {},
   "source": [
    "Now that we have the model parameters: intercept & slope we can make predictions. Using SArrays it's easy to multiply an SArray by a constant and add a constant value. Complete the following function to return the predicted output given the input_feature, slope and intercept:"
   ]
  },
  {
   "cell_type": "code",
   "execution_count": 92,
   "metadata": {
    "collapsed": false
   },
   "outputs": [],
   "source": [
    "def get_regression_predictions(input_feature, intercept, slope):\n",
    "    # calculate the predicted values:\n",
    "    predicted_values = intercept + (slope*input_feature)\n",
    "    \n",
    "    return predicted_values"
   ]
  },
  {
   "cell_type": "markdown",
   "metadata": {},
   "source": [
    "Now that we can calculate a prediction given the slope and intercept let's make a prediction. Use (or alter) the following to find out the estimated price for a house with 2650 squarefeet according to the squarefeet model we estiamted above.\n",
    "\n",
    "**Quiz Question: Using your Slope and Intercept from (4), What is the predicted price for a house with 2650 sqft?**"
   ]
  },
  {
   "cell_type": "code",
   "execution_count": 93,
   "metadata": {
    "collapsed": false
   },
   "outputs": [
    {
     "name": "stdout",
     "output_type": "stream",
     "text": [
      "The estimated price for a house with 2650 squarefeet is $700074.85\n"
     ]
    }
   ],
   "source": [
    "my_house_sqft = 2650\n",
    "estimated_price = get_regression_predictions(my_house_sqft, sqft_intercept, sqft_slope)\n",
    "print \"The estimated price for a house with %d squarefeet is $%.2f\" % (my_house_sqft, estimated_price)"
   ]
  },
  {
   "cell_type": "markdown",
   "metadata": {},
   "source": [
    "# Residual Sum of Squares"
   ]
  },
  {
   "cell_type": "markdown",
   "metadata": {},
   "source": [
    "Now that we have a model and can make predictions let's evaluate our model using Residual Sum of Squares (RSS). Recall that RSS is the sum of the squares of the residuals and the residuals is just a fancy word for the difference between the predicted output and the true output. \n",
    "\n",
    "Complete the following (or write your own) function to compute the RSS of a simple linear regression model given the input_feature, output, intercept and slope:"
   ]
  },
  {
   "cell_type": "code",
   "execution_count": 94,
   "metadata": {
    "collapsed": false
   },
   "outputs": [],
   "source": [
    "def get_residual_sum_of_squares(input_feature, output, intercept, slope):\n",
    "    predicted_values = get_regression_predictions(input_feature, intercept, slope)\n",
    "\n",
    "    # then compute the residuals (since we are squaring it doesn't matter which order you subtract)\n",
    "    residual = predicted_values - output\n",
    "\n",
    "    # square the residuals and add them up\n",
    "    resid_square = residual*residual\n",
    "    RSS = resid_square.sum()\n",
    "\n",
    "    return(RSS)"
   ]
  },
  {
   "cell_type": "markdown",
   "metadata": {},
   "source": [
    "Let's test our get_residual_sum_of_squares function by applying it to the test model where the data lie exactly on a line. Since they lie exactly on a line the residual sum of squares should be zero!"
   ]
  },
  {
   "cell_type": "code",
   "execution_count": 95,
   "metadata": {
    "collapsed": false
   },
   "outputs": [
    {
     "name": "stdout",
     "output_type": "stream",
     "text": [
      "0.0\n"
     ]
    }
   ],
   "source": [
    "print get_residual_sum_of_squares(test_feature, test_output, test_intercept, test_slope) # should be 0.0"
   ]
  },
  {
   "cell_type": "markdown",
   "metadata": {},
   "source": [
    "Now use your function to calculate the RSS on training data from the squarefeet model calculated above.\n",
    "\n",
    "**Quiz Question: According to this function and the slope and intercept from the squarefeet model What is the RSS for the simple linear regression using squarefeet to predict prices on TRAINING data?**"
   ]
  },
  {
   "cell_type": "code",
   "execution_count": 96,
   "metadata": {
    "collapsed": false
   },
   "outputs": [
    {
     "name": "stdout",
     "output_type": "stream",
     "text": [
      "The RSS of predicting Prices based on Square Feet is : 1.20191835632e+15\n"
     ]
    }
   ],
   "source": [
    "rss_prices_on_sqft = get_residual_sum_of_squares(train_data['sqft_living'], train_data['price'], sqft_intercept, sqft_slope)\n",
    "print 'The RSS of predicting Prices based on Square Feet is : ' + str(rss_prices_on_sqft)"
   ]
  },
  {
   "cell_type": "markdown",
   "metadata": {},
   "source": [
    "# Predict the squarefeet given price"
   ]
  },
  {
   "cell_type": "markdown",
   "metadata": {},
   "source": [
    "What if we want to predict the squarefoot given the price? Since we have an equation y = a + b\\*x we can solve the function for x. So that if we have the intercept (a) and the slope (b) and the price (y) we can solve for the estimated squarefeet (x).\n",
    "\n",
    "Complete the following function to compute the inverse regression estimate, i.e. predict the input_feature given the output."
   ]
  },
  {
   "cell_type": "code",
   "execution_count": 97,
   "metadata": {
    "collapsed": true
   },
   "outputs": [],
   "source": [
    "def inverse_regression_predictions(output, intercept, slope):\n",
    "    # solve output = intercept + slope*input_feature for input_feature. Use this equation to compute the inverse predictions:\n",
    "    estimated_feature = (output-intercept)/slope\n",
    "    return estimated_feature"
   ]
  },
  {
   "cell_type": "markdown",
   "metadata": {},
   "source": [
    "Now that we have a function to compute the squarefeet given the price from our simple regression model let's see how big we might expect a house that costs $800,000 to be.\n",
    "\n",
    "**Quiz Question: According to this function and the regression slope and intercept from (3) what is the estimated square-feet for a house costing $800,000?**"
   ]
  },
  {
   "cell_type": "code",
   "execution_count": 98,
   "metadata": {
    "collapsed": false
   },
   "outputs": [
    {
     "name": "stdout",
     "output_type": "stream",
     "text": [
      "The estimated squarefeet for a house worth $800000.00 is 3004\n"
     ]
    }
   ],
   "source": [
    "my_house_price = 800000\n",
    "estimated_squarefeet = inverse_regression_predictions(my_house_price, sqft_intercept, sqft_slope)\n",
    "print \"The estimated squarefeet for a house worth $%.2f is %d\" % (my_house_price, estimated_squarefeet)"
   ]
  },
  {
   "cell_type": "markdown",
   "metadata": {},
   "source": [
    "# New Model: estimate prices from bedrooms"
   ]
  },
  {
   "cell_type": "markdown",
   "metadata": {},
   "source": [
    "We have made one model for predicting house prices using squarefeet, but there are many other features in the sales SFrame. \n",
    "Use your simple linear regression function to estimate the regression parameters from predicting Prices based on number of bedrooms. Use the training data!"
   ]
  },
  {
   "cell_type": "code",
   "execution_count": 99,
   "metadata": {
    "collapsed": false
   },
   "outputs": [
    {
     "name": "stdout",
     "output_type": "stream",
     "text": [
      "Intercept: 109473.180469\n",
      "Slope: 127588.952175\n"
     ]
    }
   ],
   "source": [
    "# Estimate the slope and intercept for predicting 'price' based on 'bedrooms'\n",
    "bedrooms_intercept, bedrooms_slope = simple_linear_regression(train_data['bedrooms'], train_data['price'])\n",
    "\n",
    "print \"Intercept: \" + str(bedrooms_intercept)\n",
    "print \"Slope: \" + str(bedrooms_slope)\n"
   ]
  },
  {
   "cell_type": "markdown",
   "metadata": {},
   "source": [
    "# Test your Linear Regression Algorithm"
   ]
  },
  {
   "cell_type": "markdown",
   "metadata": {},
   "source": [
    "Now we have two models for predicting the price of a house. How do we know which one is better? Calculate the RSS on the TEST data (remember this data wasn't involved in learning the model). Compute the RSS from predicting prices using bedrooms and from predicting prices using squarefeet.\n",
    "\n",
    "**Quiz Question: Which model (square feet or bedrooms) has lowest RSS on TEST data? Think about why this might be the case.**"
   ]
  },
  {
   "cell_type": "code",
   "execution_count": 102,
   "metadata": {
    "collapsed": false
   },
   "outputs": [
    {
     "name": "stdout",
     "output_type": "stream",
     "text": [
      "The RSS of predicting Prices based on Bedrooms is : 4.93364582868e+14\n"
     ]
    }
   ],
   "source": [
    "# Compute RSS when using bedrooms on TEST data:\n",
    "rss_prices_on_bedrooms = get_residual_sum_of_squares(test_data['bedrooms'], test_data['price'], bedrooms_intercept, bedrooms_slope)\n",
    "print 'The RSS of predicting Prices based on Bedrooms is : ' + str(rss_prices_on_bedrooms)"
   ]
  },
  {
   "cell_type": "code",
   "execution_count": 100,
   "metadata": {
    "collapsed": false
   },
   "outputs": [
    {
     "name": "stdout",
     "output_type": "stream",
     "text": [
      "The RSS of predicting Prices based on Square Feet is : 2.75402936247e+14\n"
     ]
    }
   ],
   "source": [
    "# Compute RSS when using squarefeet on TEST data:\n",
    "\n",
    "rss_prices_on_sqft = get_residual_sum_of_squares(test_data['sqft_living'], test_data['price'], sqft_intercept, sqft_slope)\n",
    "print 'The RSS of predicting Prices based on Square Feet is : ' + str(rss_prices_on_sqft)"
   ]
  },
  {
   "cell_type": "code",
   "execution_count": null,
   "metadata": {
    "collapsed": true
   },
   "outputs": [],
   "source": []
  }
 ],
 "metadata": {
  "kernelspec": {
   "display_name": "Python 2",
   "language": "python",
   "name": "python2"
  },
  "language_info": {
   "codemirror_mode": {
    "name": "ipython",
    "version": 2
   },
   "file_extension": ".py",
   "mimetype": "text/x-python",
   "name": "python",
   "nbconvert_exporter": "python",
   "pygments_lexer": "ipython2",
   "version": "2.7.11"
  }
 },
 "nbformat": 4,
 "nbformat_minor": 0
}
